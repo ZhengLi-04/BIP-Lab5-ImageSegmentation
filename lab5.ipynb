{
 "cells": [
  {
   "cell_type": "markdown",
   "metadata": {},
   "source": [
    "# Project 1 Edge Detection"
   ]
  },
  {
   "cell_type": "markdown",
   "metadata": {},
   "source": [
    "Use the data of lab5, 2 modes of the brain MRI\n",
    "- Implement the Sobel gradient kernel and get a binary mask with a specified threshold T.\n",
    "- Segment the lesion (red arrow):\n",
    "    - 5x5 smooth filter + Sobel filter + threshold T -> edge\n",
    "    - Remove brain edge\n",
    "    - Closed operation\n",
    "    - Connected domain processing\n",
    "\n",
    "Discuss\n",
    "- Compare the effects of the 2 modes\n",
    "\n"
   ]
  },
  {
   "cell_type": "markdown",
   "metadata": {},
   "source": [
    "# Project 2 Thresholding"
   ]
  },
  {
   "cell_type": "markdown",
   "metadata": {},
   "source": [
    "Implement Iterative global threshold segmentation\n",
    "- Test different initial T values\n",
    "\n",
    "Implement Otsu's optimum thresholding algorithm to segment the lesion (Not call the library)\n",
    "- Test and compare the results on the brain"
   ]
  },
  {
   "cell_type": "markdown",
   "metadata": {},
   "source": [
    "# Project 3 Segmentation\n"
   ]
  },
  {
   "cell_type": "markdown",
   "metadata": {},
   "source": [
    "- Use the T2w data\n",
    "- Call Region Growing, K-mean Cluster, and Watershed Segmentation functions\n",
    "- Segment the lesion and calculate its volume\n",
    "    - Suppose the image resolution is (x, y)=(1mm, 1mm)\n",
    "\n"
   ]
  }
 ],
 "metadata": {
  "language_info": {
   "name": "python"
  }
 },
 "nbformat": 4,
 "nbformat_minor": 2
}
